{
 "cells": [
  {
   "cell_type": "code",
   "execution_count": 1,
   "metadata": {
    "collapsed": true
   },
   "outputs": [],
   "source": [
    "import cesiumpy"
   ]
  },
  {
   "cell_type": "code",
   "execution_count": 2,
   "metadata": {
    "collapsed": true
   },
   "outputs": [],
   "source": [
    "points = [[140.446793, 36.341813],\n",
    "          [139.883565, 36.565725],\n",
    "          [139.060156, 36.391208],\n",
    "          [139.648933, 35.857428],\n",
    "          [140.123308, 35.605058],\n",
    "          [139.691704, 35.689521],\n",
    "          [139.642514, 35.447753]]"
   ]
  },
  {
   "cell_type": "code",
   "execution_count": 3,
   "metadata": {
    "collapsed": false,
    "scrolled": true
   },
   "outputs": [
    {
     "data": {
      "text/plain": [
       "Polygon([140.70970652380953, 35.78698294268851, 140.06610971077615, 36.06956523268194, 140.03367654609778, 36.1229878712242, 140.27531919409412, 36.730815523809525, 140.70970652380953, 36.730815523809525, 140.70970652380953, 35.78698294268851])"
      ]
     },
     "execution_count": 3,
     "metadata": {},
     "output_type": "execute_result"
    }
   ],
   "source": [
    "vor = cesiumpy.spatial.Voronoi(points)\n",
    "polygons = vor.get_polygons()\n",
    "polygons[0]"
   ]
  },
  {
   "cell_type": "code",
   "execution_count": 4,
   "metadata": {
    "collapsed": true
   },
   "outputs": [],
   "source": [
    "options = dict(animation=True, baseLayerPicker=False, fullscreenButton=False,\n",
    "               geocoder=False, homeButton=False, infoBox=False, sceneModePicker=True,\n",
    "               selectionIndicator=False, navigationHelpButton=False,\n",
    "               timeline=False, navigationInstructionsInitiallyVisible=False)"
   ]
  },
  {
   "cell_type": "code",
   "execution_count": 5,
   "metadata": {
    "collapsed": false,
    "scrolled": true
   },
   "outputs": [
    {
     "data": {
      "text/html": [
       "<script src=\"https://cesiumjs.org/Cesium/Build/Cesium/Cesium.js\"></script>\n",
       "<link rel=\"stylesheet\" href=\"http://cesiumjs.org/Cesium/Build/CesiumUnminified/Widgets/CesiumWidget/CesiumWidget.css\" type=\"text/css\">\n",
       "<div id=\"container-4369735952\" style=\"width:100%; height:100%;\"><div>\n",
       "<script type=\"text/javascript\">\n",
       "  var widget = new Cesium.Viewer(\"container-4369735952\", {animation : true, baseLayerPicker : false, fullscreenButton : false, geocoder : false, homeButton : false, infoBox : false, sceneModePicker : true, selectionIndicator : false, timeline : false, navigationHelpButton : false, navigationInstructionsInitiallyVisible : false});\n",
       "  widget.entities.add({position : Cesium.Cartesian3.fromDegrees(140.446793, 36.341813, 0), point : {color : Cesium.Color.RED, pixelSize : 10}});\n",
       "  widget.entities.add({polygon : {hierarchy : Cesium.Cartesian3.fromDegreesArray([140.70970652380953, 35.78698294268851, 140.06610971077615, 36.06956523268194, 140.03367654609778, 36.1229878712242, 140.27531919409412, 36.730815523809525, 140.70970652380953, 36.730815523809525, 140.70970652380953, 35.78698294268851]), material : Cesium.Color.RED.withAlpha(0.5), outline : true}});\n",
       "  widget.entities.add({position : Cesium.Cartesian3.fromDegrees(139.883565, 36.565725, 0), point : {color : Cesium.Color.BLUE, pixelSize : 10}});\n",
       "  widget.entities.add({polygon : {hierarchy : Cesium.Cartesian3.fromDegreesArray([140.27531919409412, 36.730815523809525, 140.03367654609778, 36.1229878712242, 139.51046820181764, 36.29630700180803, 139.41837651502027, 36.730815523809525, 140.27531919409412, 36.730815523809525]), material : Cesium.Color.BLUE.withAlpha(0.5), outline : true}});\n",
       "  widget.entities.add({position : Cesium.Cartesian3.fromDegrees(139.060156, 36.391208, 0), point : {color : Cesium.Color.GREEN, pixelSize : 10}});\n",
       "  widget.entities.add({polygon : {hierarchy : Cesium.Cartesian3.fromDegreesArray([139.41837651502027, 36.730815523809525, 139.51046820181764, 36.29630700180803, 138.9369486409928, 35.663695951443124, 138.86085719047617, 35.61672766473102, 138.86085719047617, 36.730815523809525, 139.41837651502027, 36.730815523809525]), material : Cesium.Color.GREEN.withAlpha(0.5), outline : true}});\n",
       "  widget.entities.add({position : Cesium.Cartesian3.fromDegrees(139.648933, 35.857428, 0), point : {color : Cesium.Color.ORANGE, pixelSize : 10}});\n",
       "  widget.entities.add({polygon : {hierarchy : Cesium.Cartesian3.fromDegreesArray([139.9459394407733, 35.84368350413807, 139.2218351467796, 35.659232202176895, 138.9369486409928, 35.663695951443124, 139.51046820181764, 36.29630700180803, 140.03367654609778, 36.1229878712242, 140.06610971077615, 36.06956523268194, 139.9459394407733, 35.84368350413807]), material : Cesium.Color.ORANGE.withAlpha(0.5), outline : true}});\n",
       "  widget.entities.add({position : Cesium.Cartesian3.fromDegrees(140.123308, 35.605058, 0), point : {color : Cesium.Color.PURPLE, pixelSize : 10}});\n",
       "  widget.entities.add({polygon : {hierarchy : Cesium.Cartesian3.fromDegreesArray([139.97655553068182, 35.240186190476194, 139.88349826921186, 35.52461054425512, 139.9459394407733, 35.84368350413807, 140.06610971077615, 36.06956523268194, 140.70970652380953, 35.78698294268851, 140.70970652380953, 35.240186190476194, 139.97655553068182, 35.240186190476194]), material : Cesium.Color.PURPLE.withAlpha(0.5), outline : true}});\n",
       "  widget.entities.add({position : Cesium.Cartesian3.fromDegrees(139.691704, 35.689521, 0), point : {color : Cesium.Color.AQUA, pixelSize : 10}});\n",
       "  widget.entities.add({polygon : {hierarchy : Cesium.Cartesian3.fromDegreesArray([139.9459394407733, 35.84368350413807, 139.88349826921186, 35.52461054425512, 139.2218351467796, 35.659232202176895, 139.9459394407733, 35.84368350413807]), material : Cesium.Color.AQUA.withAlpha(0.5), outline : true}});\n",
       "  widget.entities.add({position : Cesium.Cartesian3.fromDegrees(139.642514, 35.447753, 0), point : {color : Cesium.Color.YELLOW, pixelSize : 10}});\n",
       "  widget.entities.add({polygon : {hierarchy : Cesium.Cartesian3.fromDegreesArray([138.86085719047617, 35.61672766473102, 138.9369486409928, 35.663695951443124, 139.2218351467796, 35.659232202176895, 139.88349826921186, 35.52461054425512, 139.97655553068182, 35.240186190476194, 138.86085719047617, 35.240186190476194, 138.86085719047617, 35.61672766473102]), material : Cesium.Color.YELLOW.withAlpha(0.5), outline : true}});\n",
       "  widget.camera.flyTo({destination : Cesium.Cartesian3.fromDegrees(139.8, 36, 300000.0)});\n",
       "</script>"
      ],
      "text/plain": [
       "<cesiumpy.viewer.Viewer at 0x10474e110>"
      ]
     },
     "execution_count": 5,
     "metadata": {},
     "output_type": "execute_result"
    }
   ],
   "source": [
    "viewer = cesiumpy.Viewer(**options)\n",
    "colors = [cesiumpy.color.RED, cesiumpy.color.BLUE, cesiumpy.color.GREEN,\n",
    "          cesiumpy.color.ORANGE, cesiumpy.color.PURPLE, cesiumpy.color.AQUA, cesiumpy.color.YELLOW]\n",
    "\n",
    "for p, pol, c in zip(points, polygons, colors):\n",
    "    b = cesiumpy.Point(position=(p[0], p[1], 0), color=c)\n",
    "    viewer.entities.add(b)\n",
    "    pol.material = c.set_alpha(0.5)\n",
    "    pol.outline = True\n",
    "    viewer.entities.add(pol)\n",
    "viewer.camera.flyTo((139.8, 36, 3e5))\n",
    "viewer"
   ]
  },
  {
   "cell_type": "code",
   "execution_count": 6,
   "metadata": {
    "collapsed": false
   },
   "outputs": [
    {
     "data": {
      "text/plain": [
       "Polyline([139.060156, 36.391208, 139.642514, 35.447753, 140.123308, 35.605058, 140.446793, 36.341813, 139.883565, 36.565725, 139.060156, 36.391208])"
      ]
     },
     "execution_count": 6,
     "metadata": {},
     "output_type": "execute_result"
    }
   ],
   "source": [
    "conv = cesiumpy.spatial.ConvexHull(points)\n",
    "polyline = conv.get_polyline()\n",
    "polyline"
   ]
  },
  {
   "cell_type": "code",
   "execution_count": 7,
   "metadata": {
    "collapsed": false
   },
   "outputs": [
    {
     "data": {
      "text/html": [
       "<script src=\"https://cesiumjs.org/Cesium/Build/Cesium/Cesium.js\"></script>\n",
       "<link rel=\"stylesheet\" href=\"http://cesiumjs.org/Cesium/Build/CesiumUnminified/Widgets/CesiumWidget/CesiumWidget.css\" type=\"text/css\">\n",
       "<div id=\"container-4369738576\" style=\"width:100%; height:100%;\"><div>\n",
       "<script type=\"text/javascript\">\n",
       "  var widget = new Cesium.Viewer(\"container-4369738576\", {animation : true, baseLayerPicker : false, fullscreenButton : false, geocoder : false, homeButton : false, infoBox : false, sceneModePicker : true, selectionIndicator : false, timeline : false, navigationHelpButton : false, navigationInstructionsInitiallyVisible : false});\n",
       "  widget.entities.add({polyline : {positions : Cesium.Cartesian3.fromDegreesArray([139.060156, 36.391208, 139.642514, 35.447753, 140.123308, 35.605058, 140.446793, 36.341813, 139.883565, 36.565725, 139.060156, 36.391208])}});\n",
       "  widget.camera.flyTo({destination : Cesium.Cartesian3.fromDegrees(139.8, 36, 300000.0)});\n",
       "</script>"
      ],
      "text/plain": [
       "<cesiumpy.viewer.Viewer at 0x10474eb50>"
      ]
     },
     "execution_count": 7,
     "metadata": {},
     "output_type": "execute_result"
    }
   ],
   "source": [
    "viewer = cesiumpy.Viewer(**options)\n",
    "viewer.entities.add(polyline)\n",
    "viewer.camera.flyTo((139.8, 36, 3e5))\n",
    "viewer"
   ]
  },
  {
   "cell_type": "code",
   "execution_count": null,
   "metadata": {
    "collapsed": true
   },
   "outputs": [],
   "source": []
  }
 ],
 "metadata": {
  "kernelspec": {
   "display_name": "Python 2",
   "language": "python",
   "name": "python2"
  },
  "language_info": {
   "codemirror_mode": {
    "name": "ipython",
    "version": 2
   },
   "file_extension": ".py",
   "mimetype": "text/x-python",
   "name": "python",
   "nbconvert_exporter": "python",
   "pygments_lexer": "ipython2",
   "version": "2.7.11"
  }
 },
 "nbformat": 4,
 "nbformat_minor": 0
}
