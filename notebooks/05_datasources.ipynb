{
 "cells": [
  {
   "cell_type": "code",
   "execution_count": 2,
   "metadata": {
    "collapsed": false,
    "jupyter": {
     "outputs_hidden": false
    }
   },
   "outputs": [],
   "source": [
    "import os\n",
    "import cesiumpy"
   ]
  },
  {
   "cell_type": "code",
   "execution_count": 7,
   "metadata": {
    "collapsed": false,
    "jupyter": {
     "outputs_hidden": false
    }
   },
   "outputs": [
    {
     "data": {
      "text/html": [
       "<meta charset=\"utf-8\">\n",
       "<script src=\"https://cesium.com/downloads/cesiumjs/releases/1.86/Build/Cesium/Cesium.js\"></script>\n",
       "<script src=\"https://storage.googleapis.com/loft-orbital-public/cesium-sensor-volumes.js\"></script>\n",
       "<link href=\"https://cesium.com/downloads/cesiumjs/releases/1.86/Build/Cesium/Widgets/widgets.css\" rel=\"stylesheet\">\n",
       "<div id=\"cesiumContainer\" style=\"width:100%; height:100%;\"><div>\n",
       "<script type=\"text/javascript\">\n",
       "  async function init() {\n",
       "    var widget = new Cesium.Viewer(\"cesiumContainer\");\n",
       "    widget.dataSources.add(Cesium.GeoJsonDataSource.load(\"data/example.geojson\", {markerSymbol: \"!\"}));\n",
       "    widget.camera.flyTo({destination: Cesium.Cartesian3.fromDegrees(-118.27, 34.05, 10000.0)});\n",
       "  }\n",
       "  init();\n",
       "</script>"
      ],
      "text/plain": [
       "<cesiumpy.viewer.Viewer at 0x7f41e7407250>"
      ]
     },
     "execution_count": 7,
     "metadata": {},
     "output_type": "execute_result"
    }
   ],
   "source": [
    "ds = cesiumpy.GeoJsonDataSource(os.path.join('data', 'example.geojson'), marker_symbol='!')\n",
    "v = cesiumpy.Viewer()\n",
    "v.data_sources.add(ds)\n",
    "v.camera.flyTo((-118.27, 34.05, 10000))\n",
    "v"
   ]
  },
  {
   "cell_type": "code",
   "execution_count": 4,
   "metadata": {
    "collapsed": false,
    "jupyter": {
     "outputs_hidden": false
    }
   },
   "outputs": [
    {
     "data": {
      "text/plain": [
       "u'Cesium.GeoJsonDataSource.load(\"data/example.geojson\", {markerSymbol : \"!\"})'"
      ]
     },
     "execution_count": 4,
     "metadata": {},
     "output_type": "execute_result"
    }
   ],
   "source": [
    "cesiumpy.GeoJsonDataSource.load(os.path.join('data', 'example.geojson'), marker_symbol='!').script"
   ]
  },
  {
   "cell_type": "code",
   "execution_count": 5,
   "metadata": {
    "collapsed": false,
    "jupyter": {
     "outputs_hidden": false
    }
   },
   "outputs": [
    {
     "data": {
      "text/html": [
       "<script src=\"https://cesiumjs.org/Cesium/Build/Cesium/Cesium.js\"></script>\n",
       "<link rel=\"stylesheet\" href=\"http://cesiumjs.org/Cesium/Build/Cesium/Widgets/widgets.css\" type=\"text/css\">\n",
       "<div id=\"container-4342069840\" style=\"width:100%; height:100%;\"><div>\n",
       "<script type=\"text/javascript\">\n",
       "  var widget = new Cesium.Viewer(\"container-4342069840\");\n",
       "  widget.dataSources.add(Cesium.KmlDataSource.load(\"data/example.kml\"));\n",
       "  widget.camera.flyTo({destination : Cesium.Cartesian3.fromDegrees(-118.27, 34.05, 10000.0)});\n",
       "</script>"
      ],
      "text/plain": [
       "<cesiumpy.viewer.Viewer at 0x102ceba50>"
      ]
     },
     "execution_count": 5,
     "metadata": {},
     "output_type": "execute_result"
    }
   ],
   "source": [
    "ds = cesiumpy.KmlDataSource(os.path.join('data', 'example.kml'))\n",
    "v = cesiumpy.Viewer()\n",
    "v.dataSources.add(ds)\n",
    "v.camera.flyTo((-118.27, 34.05, 10000))\n",
    "v"
   ]
  },
  {
   "cell_type": "code",
   "execution_count": 6,
   "metadata": {
    "collapsed": false,
    "jupyter": {
     "outputs_hidden": false
    }
   },
   "outputs": [
    {
     "data": {
      "text/html": [
       "<script src=\"https://cesiumjs.org/Cesium/Build/Cesium/Cesium.js\"></script>\n",
       "<link rel=\"stylesheet\" href=\"http://cesiumjs.org/Cesium/Build/Cesium/Widgets/widgets.css\" type=\"text/css\">\n",
       "<div id=\"container-4347281552\" style=\"width:100%; height:100%;\"><div>\n",
       "<script type=\"text/javascript\">\n",
       "  var widget = new Cesium.Viewer(\"container-4347281552\");\n",
       "  widget.dataSources.add(Cesium.CzmlDataSource.load(\"data/example.czml\"));\n",
       "</script>"
      ],
      "text/plain": [
       "<cesiumpy.viewer.Viewer at 0x1031e4090>"
      ]
     },
     "execution_count": 6,
     "metadata": {},
     "output_type": "execute_result"
    }
   ],
   "source": [
    "ds = cesiumpy.CzmlDataSource(os.path.join('data', 'example.czml'))\n",
    "v = cesiumpy.Viewer()\n",
    "v.dataSources.add(ds)\n",
    "v"
   ]
  },
  {
   "cell_type": "code",
   "execution_count": null,
   "metadata": {
    "collapsed": true,
    "jupyter": {
     "outputs_hidden": true
    }
   },
   "outputs": [],
   "source": []
  }
 ],
 "metadata": {
  "kernelspec": {
   "display_name": "Python 3 (ipykernel)",
   "language": "python",
   "name": "python3"
  },
  "language_info": {
   "codemirror_mode": {
    "name": "ipython",
    "version": 3
   },
   "file_extension": ".py",
   "mimetype": "text/x-python",
   "name": "python",
   "nbconvert_exporter": "python",
   "pygments_lexer": "ipython3",
   "version": "3.11.3"
  }
 },
 "nbformat": 4,
 "nbformat_minor": 4
}
