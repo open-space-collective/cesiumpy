{
 "cells": [
  {
   "cell_type": "code",
   "execution_count": 1,
   "metadata": {
    "collapsed": false
   },
   "outputs": [],
   "source": [
    "import cesiumpy"
   ]
  },
  {
   "cell_type": "code",
   "execution_count": 2,
   "metadata": {
    "collapsed": false
   },
   "outputs": [
    {
     "data": {
      "text/html": [
       "<script src=\"https://cesiumjs.org/Cesium/Build/Cesium/Cesium.js\"></script>\n",
       "<link rel=\"stylesheet\" href=\"http://cesiumjs.org/Cesium/Build/CesiumUnminified/Widgets/widgets.css\" type=\"text/css\">\n",
       "<div id=\"container-4360445840\" style=\"width:100%; height:100%;\"><div>\n",
       "<script type=\"text/javascript\">\n",
       "  var widget = new Cesium.Viewer(\"container-4360445840\");\n",
       "  widget.entities.add({position : Cesium.Cartesian3.fromDegrees(-120, 40, 0), box : {dimensions : new Cesium.Cartesian3(400000.0, 300000.0, 500000.0), material : Cesium.Color.RED}});\n",
       "</script>"
      ],
      "text/plain": [
       "<cesiumpy.viewer.Viewer at 0x103e71f90>"
      ]
     },
     "execution_count": 2,
     "metadata": {},
     "output_type": "execute_result"
    }
   ],
   "source": [
    "v = cesiumpy.Viewer()\n",
    "b = cesiumpy.Box(dimensions=(40e4, 30e4, 50e4), material=cesiumpy.color.RED, position=[-120, 40, 0])\n",
    "v.entities.add(b)\n",
    "v"
   ]
  },
  {
   "cell_type": "code",
   "execution_count": 3,
   "metadata": {
    "collapsed": false
   },
   "outputs": [
    {
     "data": {
      "text/html": [
       "<script src=\"https://cesiumjs.org/Cesium/Build/Cesium/Cesium.js\"></script>\n",
       "<link rel=\"stylesheet\" href=\"http://cesiumjs.org/Cesium/Build/CesiumUnminified/Widgets/widgets.css\" type=\"text/css\">\n",
       "<div id=\"container-4360450384\" style=\"width:100%; height:100%;\"><div>\n",
       "<script type=\"text/javascript\">\n",
       "  var widget = new Cesium.Viewer(\"container-4360450384\");\n",
       "  widget.entities.add({position : Cesium.Cartesian3.fromDegrees(-90, 50, 0), label : {text : \"entities\"}});\n",
       "  widget.entities.add({position : Cesium.Cartesian3.fromDegrees(-120, 40, 0), point : {pixelSize : 10.0, color : Cesium.Color.BLUE}});\n",
       "  widget.entities.add({position : Cesium.Cartesian3.fromDegrees(-110, 40, 0), box : {dimensions : new Cesium.Cartesian3(400000.0, 300000.0, 500000.0), material : Cesium.Color.RED}});\n",
       "  widget.entities.add({position : Cesium.Cartesian3.fromDegrees(-100, 40, 0), ellipse : {semiMinorAxis : 250000.0, semiMajorAxis : 400000.0, material : Cesium.Color.BLUE}});\n",
       "  widget.entities.add({position : Cesium.Cartesian3.fromDegrees(-90, 40, 500000.0), cylinder : {length : 1000000.0, topRadius : 100000.0, bottomRadius : 100000.0, material : Cesium.Color.AQUA}});\n",
       "  widget.entities.add({polygon : {hierarchy : Cesium.Cartesian3.fromDegreesArray([-80, 40, -85, 40, -82.5, 45]), material : Cesium.Color.ORANGE}});\n",
       "  widget.entities.add({rectangle : {coordinates : Cesium.Rectangle.fromDegrees(-75, 40, -70, 45), material : Cesium.Color.GREEN}});\n",
       "  widget.entities.add({position : Cesium.Cartesian3.fromDegrees(-60, 40, 0), ellipsoid : {radii : new Cesium.Cartesian3(200000.0, 200000.0, 300000.0), material : Cesium.Color.GREEN}});\n",
       "  widget.entities.add({wall : {positions : Cesium.Cartesian3.fromDegreesArray([-50, 35, -55, 35, -55, 40, -50, 40, -50, 35]), maximumHeights : [100000.0, 100000.0, 100000.0, 100000.0, 100000.0], minimumHeights : [0, 0, 0, 0, 0], material : Cesium.Color.RED}});\n",
       "  widget.entities.add({corridor : {positions : Cesium.Cartesian3.fromDegreesArray([-120, 30, -90, 35, -50, 30]), width : 200000.0, material : Cesium.Color.RED}});\n",
       "  widget.entities.add({polyline : {positions : Cesium.Cartesian3.fromDegreesArray([-120, 25, -90, 30, -50, 25]), width : 0.5, material : Cesium.Color.BLUE}});\n",
       "  widget.entities.add({polylineVolume : {positions : Cesium.Cartesian3.fromDegreesArray([-120, 20, -90, 25, -50, 20]), shape : [new Cesium.Cartesian2(-50000.0, -50000.0), new Cesium.Cartesian2(50000.0, -50000.0), new Cesium.Cartesian2(50000.0, 50000.0), new Cesium.Cartesian2(-50000.0, 50000.0)], material : Cesium.Color.GREEN}});\n",
       "</script>"
      ],
      "text/plain": [
       "<cesiumpy.viewer.Viewer at 0x103e73150>"
      ]
     },
     "execution_count": 3,
     "metadata": {},
     "output_type": "execute_result"
    }
   ],
   "source": [
    "v = cesiumpy.Viewer()\n",
    "\n",
    "label = cesiumpy.Label(position=[-90, 50, 0], text='entities')\n",
    "v.entities.add(label)\n",
    "\n",
    "point = cesiumpy.Point(position=[-120, 40, 0], color=cesiumpy.color.BLUE)\n",
    "v.entities.add(point)\n",
    "\n",
    "box = cesiumpy.Box(position=[-110, 40, 0], dimensions=(40e4, 30e4, 50e4), material=cesiumpy.color.RED)\n",
    "v.entities.add(box)\n",
    "\n",
    "ellipse = cesiumpy.Ellipse( position=[-100, 40, 0], semi_minor_axis=25e4, semi_major_axis=40e4, material=cesiumpy.color.BLUE)\n",
    "v.entities.add(ellipse)\n",
    "\n",
    "cylinder = cesiumpy.Cylinder(position=[-90, 40, 50e4], length=100e4, top_radius=10e4, bottom_radius=10e4, material=cesiumpy.color.AQUA)\n",
    "v.entities.add(cylinder)\n",
    "\n",
    "polygon = cesiumpy.Polygon(hierarchy=[-80, 40, -85, 40, -82.5, 45], material=cesiumpy.color.ORANGE)\n",
    "v.entities.add(polygon)\n",
    "\n",
    "rectangle = cesiumpy.Rectangle(coordinates=(-75, 40, -70, 45), material=cesiumpy.color.GREEN)\n",
    "v.entities.add(rectangle)\n",
    "\n",
    "ellipsoid = cesiumpy.Ellipsoid(position=(-60, 40, 0), radii=(20e4, 20e4, 30e4), material=cesiumpy.color.GREEN)\n",
    "v.entities.add(ellipsoid)\n",
    "\n",
    "wall = cesiumpy.Wall(positions=[-50, 35, -55, 35, -55, 40, -50, 40, -50, 35], maximum_heights=10e4, minimum_heights=0,\n",
    "                     material=cesiumpy.color.RED)\n",
    "v.entities.add(wall)\n",
    "\n",
    "corridor = cesiumpy.Corridor(positions=[-120, 30, -90, 35, -50, 30], width=2e5, material=cesiumpy.color.RED)\n",
    "v.entities.add(corridor)\n",
    "\n",
    "polyline = cesiumpy.Polyline(positions=[-120, 25, -90, 30, -50, 25], width=0.5, material=cesiumpy.color.BLUE)\n",
    "v.entities.add(polyline)\n",
    "\n",
    "polylinevolume = cesiumpy.PolylineVolume(positions=[-120, 20, -90, 25, -50, 20],\n",
    "                                         shape=[-5e4, -5e4, 5e4, -5e4, 5e4, 5e4, -5e4, 5e4],\n",
    "                                         material=cesiumpy.color.GREEN)\n",
    "v.entities.add(polylinevolume)\n",
    "v"
   ]
  },
  {
   "cell_type": "code",
   "execution_count": 4,
   "metadata": {
    "collapsed": false
   },
   "outputs": [
    {
     "data": {
      "text/html": [
       "<script src=\"https://cesiumjs.org/Cesium/Build/Cesium/Cesium.js\"></script>\n",
       "<link rel=\"stylesheet\" href=\"http://cesiumjs.org/Cesium/Build/CesiumUnminified/Widgets/widgets.css\" type=\"text/css\">\n",
       "<div id=\"container-4360450320\" style=\"width:100%; height:100%;\"><div>\n",
       "<script type=\"text/javascript\">\n",
       "  var widget = new Cesium.Viewer(\"container-4360450320\");\n",
       "  widget.entities.add({position : Cesium.Cartesian3.fromDegrees(-120, 40, 0), billboard : {image : new Cesium.PinBuilder().fromColor(Cesium.Color.ROYALBLUE, 48.0)}});\n",
       "  widget.entities.add({position : Cesium.Cartesian3.fromDegrees(-100, 40, 0), billboard : {image : new Cesium.PinBuilder().fromColor(Cesium.Color.RED, 48.0)}});\n",
       "  widget.entities.add({position : Cesium.Cartesian3.fromDegrees(-80, 40, 0), billboard : {image : new Cesium.PinBuilder().fromText(\"!\", Cesium.Color.GREEN, 48.0)}});\n",
       "</script>"
      ],
      "text/plain": [
       "<cesiumpy.viewer.Viewer at 0x103e73110>"
      ]
     },
     "execution_count": 4,
     "metadata": {},
     "output_type": "execute_result"
    }
   ],
   "source": [
    "v = cesiumpy.Viewer()\n",
    "pin1 = cesiumpy.Pin()\n",
    "bill1 = cesiumpy.Billboard(position=[-120, 40, 0], image=pin1)\n",
    "v.entities.add(bill1)\n",
    "\n",
    "pin2 = cesiumpy.Pin(cesiumpy.color.RED)\n",
    "bill2 = cesiumpy.Billboard(position=[-100, 40, 0], image=pin2)\n",
    "v.entities.add(bill2)\n",
    "\n",
    "pin3 = cesiumpy.Pin.fromText('!', color=cesiumpy.color.GREEN)\n",
    "bill3 = cesiumpy.Billboard(position=[-80, 40, 0], image=pin3)\n",
    "v.entities.add(bill3)\n",
    "v"
   ]
  },
  {
   "cell_type": "code",
   "execution_count": null,
   "metadata": {
    "collapsed": true
   },
   "outputs": [],
   "source": []
  }
 ],
 "metadata": {
  "kernelspec": {
   "display_name": "Python 2",
   "language": "python",
   "name": "python2"
  },
  "language_info": {
   "codemirror_mode": {
    "name": "ipython",
    "version": 2
   },
   "file_extension": ".py",
   "mimetype": "text/x-python",
   "name": "python",
   "nbconvert_exporter": "python",
   "pygments_lexer": "ipython2",
   "version": "2.7.11"
  }
 },
 "nbformat": 4,
 "nbformat_minor": 0
}
